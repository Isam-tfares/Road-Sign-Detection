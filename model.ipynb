{
 "cells": [
  {
   "attachments": {},
   "cell_type": "markdown",
   "metadata": {},
   "source": [
    "Importing Bibliotiques"
   ]
  },
  {
   "cell_type": "code",
   "execution_count": 20,
   "metadata": {},
   "outputs": [],
   "source": [
    "import os\n",
    "import numpy as np\n",
    "import pandas as pd\n",
    "import cv2\n",
    "from sklearn.model_selection import train_test_split\n",
    "from sklearn.svm import SVC\n",
    "from sklearn.metrics import accuracy_score\n",
    "import pickle\n",
    "import matplotlib.pyplot as plt"
   ]
  },
  {
   "attachments": {},
   "cell_type": "markdown",
   "metadata": {},
   "source": [
    "Importing Data"
   ]
  },
  {
   "cell_type": "code",
   "execution_count": 36,
   "metadata": {},
   "outputs": [],
   "source": [
    "\n",
    "\n",
    "# Set the path to your \"MyData\" folder\n",
    "data_path = \"./MyData\"\n",
    "\n",
    "\n",
    "\n",
    "# Check if the saved data and labels files exist\n",
    "if os.path.exists(\"data.npy\") and os.path.exists(\"labels.npy\"):\n",
    "    # Load data and labels from saved files\n",
    "    data = np.load('data.npy')\n",
    "    labels = np.load('labels.npy')\n",
    "else:\n",
    "    # Define the input image size\n",
    "    image_size = (32, 32)\n",
    "    # Data loading and preprocessing code\n",
    "    data = []\n",
    "    labels = []\n",
    "\n",
    "    for class_folder in os.listdir(data_path):\n",
    "        class_folder_path = os.path.join(data_path, class_folder)\n",
    "        if os.path.isdir(class_folder_path):\n",
    "            class_label = int(class_folder)\n",
    "            for image_file in os.listdir(class_folder_path):\n",
    "                image_path = os.path.join(class_folder_path, image_file)\n",
    "                image = cv2.imread(image_path)\n",
    "                image = cv2.resize(image, image_size)\n",
    "                data.append(image.flatten())\n",
    "                labels.append(class_label)\n",
    "\n",
    "    # Convert data and labels to numpy arrays\n",
    "    data = np.array(data)\n",
    "    labels = np.array(labels)\n",
    "\n",
    "    # Save data and labels as numpy arrays\n",
    "    np.save('data.npy', data)\n",
    "    np.save('labels.npy', labels)"
   ]
  },
  {
   "attachments": {},
   "cell_type": "markdown",
   "metadata": {},
   "source": [
    "Split and Normalise data\n"
   ]
  },
  {
   "cell_type": "code",
   "execution_count": 22,
   "metadata": {},
   "outputs": [],
   "source": [
    "from sklearn.utils import shuffle\n",
    "\n",
    "\n",
    "data, labels = shuffle(data, labels, random_state=42)\n",
    "# Split the data into training and testing sets\n",
    "train_data, test_data, train_labels, test_labels = train_test_split(data, labels, test_size=0.2, random_state=42)\n",
    "\n",
    "# Normalize pixel values\n",
    "train_data = train_data / 255.0\n",
    "test_data = test_data / 255.0\n",
    "\n"
   ]
  },
  {
   "attachments": {},
   "cell_type": "markdown",
   "metadata": {},
   "source": [
    "Creating Model and Save it\n"
   ]
  },
  {
   "cell_type": "code",
   "execution_count": 6,
   "metadata": {},
   "outputs": [],
   "source": [
    "if os.path.exists(\"my_model.pickle\"):\n",
    "    svm = pickle.load(open(\"my_model.pickle\", \"rb\"))\n",
    "else:\n",
    "    svm = SVC(kernel=\"linear\")\n",
    "    svm.fit(train_data, train_labels)\n",
    "    filename = \"my_model.pickle\"\n",
    "    pickle.dump(svm, open(filename, \"wb\"))"
   ]
  },
  {
   "attachments": {},
   "cell_type": "markdown",
   "metadata": {},
   "source": [
    "#Accuracy\n",
    "\n"
   ]
  },
  {
   "cell_type": "code",
   "execution_count": 15,
   "metadata": {},
   "outputs": [
    {
     "name": "stdout",
     "output_type": "stream",
     "text": [
      "Test Accuracy: 0.9949412086409626\n"
     ]
    }
   ],
   "source": [
    "# predictionsTrain = svm.predict(train_data)\n",
    "\n",
    "# accuracy = accuracy_score(train_labels, predictionsTrain)\n",
    "# print(\"Train Accuracy:\", accuracy)\n",
    "predictionsTest = svm.predict(test_data)\n",
    "\n",
    "accuracy = accuracy_score(test_labels, predictionsTest)\n",
    "print(\"Test Accuracy:\", accuracy)"
   ]
  },
  {
   "attachments": {},
   "cell_type": "markdown",
   "metadata": {},
   "source": [
    "# predict "
   ]
  },
  {
   "cell_type": "code",
   "execution_count": 48,
   "metadata": {},
   "outputs": [],
   "source": [
    "def predict(data):\n",
    "    labels_df = pd.read_csv('labels.csv')\n",
    "    svm.predict(data.reshape(1, -1))\n",
    "    labels_df.set_index('ClassId', inplace=True)\n",
    "    predicted_class_id = svm.predict(data.reshape(1, -1))\n",
    "    predicted_class_name = labels_df.loc[predicted_class_id[0], 'Name']\n",
    "    print(predicted_class_name)\n",
    "    image = data.reshape(32, 32, 3)  # Remodeler les données en une image de forme (32, 32, 3)\n",
    "    plt.imshow(image)\n",
    "    plt.axis('off')  # Désactiver les étiquettes d'axe\n",
    "    plt.show()\n",
    "\n"
   ]
  },
  {
   "cell_type": "code",
   "execution_count": 56,
   "metadata": {},
   "outputs": [
    {
     "name": "stdout",
     "output_type": "stream",
     "text": [
      "Speed limit (60km/h)\n"
     ]
    },
    {
     "data": {
      "image/png": "[encoded data removed]",
      "text/plain": [
       "<Figure size 640x480 with 1 Axes>"
      ]
     },
     "metadata": {},
     "output_type": "display_data"
    }
   ],
   "source": [
    "predict(test_data[50])"
   ]
  },
  {
   "cell_type": "code",
   "execution_count": null,
   "metadata": {},
   "outputs": [],
   "source": []
  }
 ],
 "metadata": {
  "kernelspec": {
   "display_name": "Python 3",
   "language": "python",
   "name": "python3"
  },
  "language_info": {
   "codemirror_mode": {
    "name": "ipython",
    "version": 3
   },
   "file_extension": ".py",
   "mimetype": "text/x-python",
   "name": "python",
   "nbconvert_exporter": "python",
   "pygments_lexer": "ipython3",
   "version": "3.10.11"
  },
  "orig_nbformat": 4
 },
 "nbformat": 4,
 "nbformat_minor": 2
}
